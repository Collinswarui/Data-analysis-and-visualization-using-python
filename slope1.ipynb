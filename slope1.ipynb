{
 "cells": [
  {
   "cell_type": "code",
   "execution_count": 5,
   "id": "29a31d53",
   "metadata": {},
   "outputs": [
    {
     "name": "stdout",
     "output_type": "stream",
     "text": [
      "2.0\n"
     ]
    }
   ],
   "source": [
    "def slope(x1,y1,x2,y2):\n",
    "    s=(y2-y1)/(x2-x1)\n",
    "    return s\n",
    "print(slope(20,80,30,100))"
   ]
  },
  {
   "cell_type": "code",
   "execution_count": 6,
   "id": "842346b6",
   "metadata": {},
   "outputs": [
    {
     "name": "stdout",
     "output_type": "stream",
     "text": [
      "350\n"
     ]
    }
   ],
   "source": [
    "def my_function(x):\n",
    "    return x*2 + 80\n",
    "print(my_function(135))"
   ]
  },
  {
   "cell_type": "code",
   "execution_count": 8,
   "id": "2d626a03",
   "metadata": {},
   "outputs": [
    {
     "name": "stdout",
     "output_type": "stream",
     "text": [
      "46.532831689999995\n"
     ]
    }
   ],
   "source": [
    "def my_function(y):\n",
    "    return y*0.50496942 + 41.48313749\n",
    "print(my_function(10))"
   ]
  },
  {
   "cell_type": "code",
   "execution_count": null,
   "id": "abe9a2b4",
   "metadata": {},
   "outputs": [],
   "source": []
  }
 ],
 "metadata": {
  "kernelspec": {
   "display_name": "Python 3 (ipykernel)",
   "language": "python",
   "name": "python3"
  },
  "language_info": {
   "codemirror_mode": {
    "name": "ipython",
    "version": 3
   },
   "file_extension": ".py",
   "mimetype": "text/x-python",
   "name": "python",
   "nbconvert_exporter": "python",
   "pygments_lexer": "ipython3",
   "version": "3.10.9"
  }
 },
 "nbformat": 4,
 "nbformat_minor": 5
}
